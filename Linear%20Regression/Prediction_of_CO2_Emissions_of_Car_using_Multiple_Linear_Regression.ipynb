{
  "nbformat": 4,
  "nbformat_minor": 0,
  "metadata": {
    "colab": {
      "name": "Prediction of CO2 Emissions of Car using Multiple Linear Regression.ipynb",
      "provenance": [],
      "authorship_tag": "ABX9TyPNVdFKz4SFTtsCawdqIkFn"
    },
    "kernelspec": {
      "name": "python3",
      "display_name": "Python 3"
    }
  },
  "cells": [
    {
      "cell_type": "markdown",
      "metadata": {
        "id": "Z2sohF1Pd5y5",
        "colab_type": "text"
      },
      "source": [
        "# <center>**Prediction of CO2 Emissions of Car using Multiple Linear Regression**<center>\n",
        "\n",
        "<center>In this notebook, we will use scikit-learn to predict CO2 emissions using Multiple linear regression. We download a dataset that is related to fuel consumption and Carbon dioxide emission of cars. Then, we split our data into training and test sets, create a model using training set, Evaluate your model using test set, and finally use model to predict unknown value. </center>\n"
      ]
    },
    {
      "cell_type": "code",
      "metadata": {
        "id": "8a0fQTPmekOU",
        "colab_type": "code",
        "colab": {}
      },
      "source": [
        ""
      ],
      "execution_count": null,
      "outputs": []
    }
  ]
}