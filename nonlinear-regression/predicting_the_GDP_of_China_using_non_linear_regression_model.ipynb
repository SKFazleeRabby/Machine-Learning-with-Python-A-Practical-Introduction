{
  "nbformat": 4,
  "nbformat_minor": 0,
  "metadata": {
    "colab": {
      "name": "Predicting the GDP of China Based on Historical Data from 1960 to 2014 using Non-Linear Regression Model.ipynb",
      "provenance": [],
      "authorship_tag": "ABX9TyPZNVWedubB4IhdujWBt3V2",
      "include_colab_link": true
    },
    "kernelspec": {
      "name": "python3",
      "display_name": "Python 3"
    }
  },
  "cells": [
    {
      "cell_type": "markdown",
      "metadata": {
        "id": "view-in-github",
        "colab_type": "text"
      },
      "source": [
        "<a href=\"https://colab.research.google.com/github/SKFazleeRabby/Machine-Learning-with-Python-A-Practical-Introduction/blob/master/nonlinear-regression/predicting_the_GDP_of_China_using_non_linear_regression_model.ipynb\" target=\"_parent\"><img src=\"https://colab.research.google.com/assets/colab-badge.svg\" alt=\"Open In Colab\"/></a>"
      ]
    },
    {
      "cell_type": "markdown",
      "metadata": {
        "id": "2_R4_RcXePC6",
        "colab_type": "text"
      },
      "source": [
        "#**<center>Predicting the GDP of China Based on Historical Data from 1960 to 2014 using Non-Linear Regression Model</center>**\n",
        "\n",
        "<center> We're going to try and fit a non-linear model to the datapoints corresponding to China's GDP from 1960 to 2014. We download a dataset with two columns, the first, a year between 1960 and 2014, the second, China's corresponding annual gross domestic income in US dollars for that year.</center>"
      ]
    },
    {
      "cell_type": "markdown",
      "metadata": {
        "id": "V-PzUgT_g1sQ",
        "colab_type": "text"
      },
      "source": [
        "###**Importing the Dataset**"
      ]
    },
    {
      "cell_type": "code",
      "metadata": {
        "id": "0UWbbWmjg47t",
        "colab_type": "code",
        "colab": {}
      },
      "source": [
        "import pandas as pd\n",
        "import numpy as np\n",
        "import matplotlib.pyplot as plt\n",
        "%matplotlib inline"
      ],
      "execution_count": 1,
      "outputs": []
    },
    {
      "cell_type": "markdown",
      "metadata": {
        "id": "0YeK5eUshAl4",
        "colab_type": "text"
      },
      "source": [
        "###**Downloading the Dataset from IBM Object Storage**"
      ]
    },
    {
      "cell_type": "code",
      "metadata": {
        "id": "fktTcTbuhLMQ",
        "colab_type": "code",
        "colab": {
          "base_uri": "https://localhost:8080/",
          "height": 204
        },
        "outputId": "21fa6a4f-e316-467a-dbec-dcde2b1695cf"
      },
      "source": [
        "!wget -O ChinaGDP.csv https://s3-api.us-geo.objectstorage.softlayer.net/cf-courses-data/CognitiveClass/ML0101ENv3/labs/china_gdp.csv"
      ],
      "execution_count": 2,
      "outputs": [
        {
          "output_type": "stream",
          "text": [
            "--2020-07-10 11:06:21--  https://s3-api.us-geo.objectstorage.softlayer.net/cf-courses-data/CognitiveClass/ML0101ENv3/labs/china_gdp.csv\n",
            "Resolving s3-api.us-geo.objectstorage.softlayer.net (s3-api.us-geo.objectstorage.softlayer.net)... 67.228.254.196\n",
            "Connecting to s3-api.us-geo.objectstorage.softlayer.net (s3-api.us-geo.objectstorage.softlayer.net)|67.228.254.196|:443... connected.\n",
            "HTTP request sent, awaiting response... 200 OK\n",
            "Length: 1218 (1.2K) [text/csv]\n",
            "Saving to: ‘ChinaGDP.csv’\n",
            "\n",
            "ChinaGDP.csv        100%[===================>]   1.19K  --.-KB/s    in 0s      \n",
            "\n",
            "2020-07-10 11:06:22 (194 MB/s) - ‘ChinaGDP.csv’ saved [1218/1218]\n",
            "\n"
          ],
          "name": "stdout"
        }
      ]
    },
    {
      "cell_type": "markdown",
      "metadata": {
        "id": "qhbSOJENhTqx",
        "colab_type": "text"
      },
      "source": [
        "###**Loading and Exploring the Dataset**"
      ]
    },
    {
      "cell_type": "code",
      "metadata": {
        "id": "eL8KvzYrhYDA",
        "colab_type": "code",
        "colab": {
          "base_uri": "https://localhost:8080/",
          "height": 204
        },
        "outputId": "82c50c46-84cd-4863-b926-e271cd2b5e7f"
      },
      "source": [
        "df = pd.read_csv('ChinaGDP.csv')\n",
        "df.head()"
      ],
      "execution_count": 3,
      "outputs": [
        {
          "output_type": "execute_result",
          "data": {
            "text/html": [
              "<div>\n",
              "<style scoped>\n",
              "    .dataframe tbody tr th:only-of-type {\n",
              "        vertical-align: middle;\n",
              "    }\n",
              "\n",
              "    .dataframe tbody tr th {\n",
              "        vertical-align: top;\n",
              "    }\n",
              "\n",
              "    .dataframe thead th {\n",
              "        text-align: right;\n",
              "    }\n",
              "</style>\n",
              "<table border=\"1\" class=\"dataframe\">\n",
              "  <thead>\n",
              "    <tr style=\"text-align: right;\">\n",
              "      <th></th>\n",
              "      <th>Year</th>\n",
              "      <th>Value</th>\n",
              "    </tr>\n",
              "  </thead>\n",
              "  <tbody>\n",
              "    <tr>\n",
              "      <th>0</th>\n",
              "      <td>1960</td>\n",
              "      <td>5.918412e+10</td>\n",
              "    </tr>\n",
              "    <tr>\n",
              "      <th>1</th>\n",
              "      <td>1961</td>\n",
              "      <td>4.955705e+10</td>\n",
              "    </tr>\n",
              "    <tr>\n",
              "      <th>2</th>\n",
              "      <td>1962</td>\n",
              "      <td>4.668518e+10</td>\n",
              "    </tr>\n",
              "    <tr>\n",
              "      <th>3</th>\n",
              "      <td>1963</td>\n",
              "      <td>5.009730e+10</td>\n",
              "    </tr>\n",
              "    <tr>\n",
              "      <th>4</th>\n",
              "      <td>1964</td>\n",
              "      <td>5.906225e+10</td>\n",
              "    </tr>\n",
              "  </tbody>\n",
              "</table>\n",
              "</div>"
            ],
            "text/plain": [
              "   Year         Value\n",
              "0  1960  5.918412e+10\n",
              "1  1961  4.955705e+10\n",
              "2  1962  4.668518e+10\n",
              "3  1963  5.009730e+10\n",
              "4  1964  5.906225e+10"
            ]
          },
          "metadata": {
            "tags": []
          },
          "execution_count": 3
        }
      ]
    },
    {
      "cell_type": "code",
      "metadata": {
        "id": "Fs-Nfge8hcs6",
        "colab_type": "code",
        "colab": {
          "base_uri": "https://localhost:8080/",
          "height": 170
        },
        "outputId": "1d335dab-b1b0-4e44-9622-cae9768a4c98"
      },
      "source": [
        "df.info()"
      ],
      "execution_count": 4,
      "outputs": [
        {
          "output_type": "stream",
          "text": [
            "<class 'pandas.core.frame.DataFrame'>\n",
            "RangeIndex: 55 entries, 0 to 54\n",
            "Data columns (total 2 columns):\n",
            " #   Column  Non-Null Count  Dtype  \n",
            "---  ------  --------------  -----  \n",
            " 0   Year    55 non-null     int64  \n",
            " 1   Value   55 non-null     float64\n",
            "dtypes: float64(1), int64(1)\n",
            "memory usage: 1008.0 bytes\n"
          ],
          "name": "stdout"
        }
      ]
    },
    {
      "cell_type": "code",
      "metadata": {
        "id": "5n3wMxO8hgSq",
        "colab_type": "code",
        "colab": {
          "base_uri": "https://localhost:8080/",
          "height": 297
        },
        "outputId": "3a6ae858-3d38-4bfc-af50-92c4764d9b49"
      },
      "source": [
        "df.describe()"
      ],
      "execution_count": 5,
      "outputs": [
        {
          "output_type": "execute_result",
          "data": {
            "text/html": [
              "<div>\n",
              "<style scoped>\n",
              "    .dataframe tbody tr th:only-of-type {\n",
              "        vertical-align: middle;\n",
              "    }\n",
              "\n",
              "    .dataframe tbody tr th {\n",
              "        vertical-align: top;\n",
              "    }\n",
              "\n",
              "    .dataframe thead th {\n",
              "        text-align: right;\n",
              "    }\n",
              "</style>\n",
              "<table border=\"1\" class=\"dataframe\">\n",
              "  <thead>\n",
              "    <tr style=\"text-align: right;\">\n",
              "      <th></th>\n",
              "      <th>Year</th>\n",
              "      <th>Value</th>\n",
              "    </tr>\n",
              "  </thead>\n",
              "  <tbody>\n",
              "    <tr>\n",
              "      <th>count</th>\n",
              "      <td>55.00000</td>\n",
              "      <td>5.500000e+01</td>\n",
              "    </tr>\n",
              "    <tr>\n",
              "      <th>mean</th>\n",
              "      <td>1987.00000</td>\n",
              "      <td>1.437042e+12</td>\n",
              "    </tr>\n",
              "    <tr>\n",
              "      <th>std</th>\n",
              "      <td>16.02082</td>\n",
              "      <td>2.500085e+12</td>\n",
              "    </tr>\n",
              "    <tr>\n",
              "      <th>min</th>\n",
              "      <td>1960.00000</td>\n",
              "      <td>4.668518e+10</td>\n",
              "    </tr>\n",
              "    <tr>\n",
              "      <th>25%</th>\n",
              "      <td>1973.50000</td>\n",
              "      <td>1.395123e+11</td>\n",
              "    </tr>\n",
              "    <tr>\n",
              "      <th>50%</th>\n",
              "      <td>1987.00000</td>\n",
              "      <td>3.074796e+11</td>\n",
              "    </tr>\n",
              "    <tr>\n",
              "      <th>75%</th>\n",
              "      <td>2000.50000</td>\n",
              "      <td>1.268748e+12</td>\n",
              "    </tr>\n",
              "    <tr>\n",
              "      <th>max</th>\n",
              "      <td>2014.00000</td>\n",
              "      <td>1.035483e+13</td>\n",
              "    </tr>\n",
              "  </tbody>\n",
              "</table>\n",
              "</div>"
            ],
            "text/plain": [
              "             Year         Value\n",
              "count    55.00000  5.500000e+01\n",
              "mean   1987.00000  1.437042e+12\n",
              "std      16.02082  2.500085e+12\n",
              "min    1960.00000  4.668518e+10\n",
              "25%    1973.50000  1.395123e+11\n",
              "50%    1987.00000  3.074796e+11\n",
              "75%    2000.50000  1.268748e+12\n",
              "max    2014.00000  1.035483e+13"
            ]
          },
          "metadata": {
            "tags": []
          },
          "execution_count": 5
        }
      ]
    },
    {
      "cell_type": "markdown",
      "metadata": {
        "id": "9jR_Hbukhh9R",
        "colab_type": "text"
      },
      "source": [
        "###**Visualizing the Dataset**"
      ]
    },
    {
      "cell_type": "code",
      "metadata": {
        "id": "UbNEF_ifh2GA",
        "colab_type": "code",
        "colab": {
          "base_uri": "https://localhost:8080/",
          "height": 295
        },
        "outputId": "334a2bcf-dda7-4ce2-a7c6-bf3afd40b6f1"
      },
      "source": [
        "plt.scatter(df.Year, df.Value)\n",
        "plt.xlabel('GDP')\n",
        "plt.ylabel('Year')\n",
        "plt.title('GDP of China From 1964 to 2014')\n",
        "plt.show()"
      ],
      "execution_count": 6,
      "outputs": [
        {
          "output_type": "display_data",
          "data": {
            "image/png": "[encoded data removed]",
            "text/plain": [
              "<Figure size 432x288 with 1 Axes>"
            ]
          },
          "metadata": {
            "tags": [],
            "needs_background": "light"
          }
        }
      ]
    },
    {
      "cell_type": "markdown",
      "metadata": {
        "id": "OwMltJdriDRg",
        "colab_type": "text"
      },
      "source": [
        "###**Choosing a Model**\n",
        "From an initial look at the plot, we determine that the logistic function could be a good approximation, since it has the property of starting with a slow growth, increasing growth in the middle, and then decreasing again at the end"
      ]
    },
    {
      "cell_type": "code",
      "metadata": {
        "id": "7_GcMlXqaB8R",
        "colab_type": "code",
        "colab": {}
      },
      "source": [
        "def sigmoid(x_data, beta1, beta2):\n",
        "  y = 1 / (1 + np.exp(-beta1 * (x_data - beta2)))\n",
        "  return y"
      ],
      "execution_count": 7,
      "outputs": []
    },
    {
      "cell_type": "code",
      "metadata": {
        "id": "9FcnwLwca6Jh",
        "colab_type": "code",
        "colab": {
          "base_uri": "https://localhost:8080/",
          "height": 276
        },
        "outputId": "a7002c1c-cda9-4159-dd15-bcb34962a0bc"
      },
      "source": [
        "beta_1 = 0.10\n",
        "beta_2 = 1990.0\n",
        "\n",
        "X_data, y_data = (df['Year'].values, df['Value'].values)\n",
        "predicted_y = sigmoid(X_data, beta_1, beta_2)\n",
        "\n",
        "plt.scatter(X_data, y_data)\n",
        "plt.plot(X_data, predicted_y*15000000000000, color='red')\n",
        "plt.show()"
      ],
      "execution_count": 22,
      "outputs": [
        {
          "output_type": "display_data",
          "data": {
            "image/png": "[encoded data removed]",
            "text/plain": [
              "<Figure size 432x288 with 1 Axes>"
            ]
          },
          "metadata": {
            "tags": [],
            "needs_background": "light"
          }
        }
      ]
    },
    {
      "cell_type": "markdown",
      "metadata": {
        "id": "u_Ezow10bmS2",
        "colab_type": "text"
      },
      "source": [
        "###**How we find the best parameters for our fit line?**\n",
        "\n",
        "We have tried to fit our sigmoid function to the data but it seems that we could not find a good parameters value for our data. \n",
        "\n",
        "We can use __curve_fit()__ which uses non-linear least squares to fit our sigmoid function, to data. Optimal values for the parameters so that the sum of the squared residuals of $sigmoid(xdata, *popt) - ydata$ is minimized.\n",
        "\n",
        "_**popt**_ are our optimized parameters."
      ]
    },
    {
      "cell_type": "code",
      "metadata": {
        "id": "qbGlWtPAdVB6",
        "colab_type": "code",
        "colab": {
          "base_uri": "https://localhost:8080/",
          "height": 238
        },
        "outputId": "78d6a9f7-d8de-45c8-962c-f71deee462b9"
      },
      "source": [
        "from scipy.optimize import curve_fit\n",
        "\n",
        "#Normalizing Data\n",
        "X_data = X_data/max(X_data)\n",
        "y_data = y_data/max(y_data)\n",
        "\n",
        "X_data\n",
        "popt, pcov = curve_fit(sigmoid, X_data, y_data)\n",
        "print(\"Beta 1 = %f\\nBeta 2 = %f\" % (popt[0], popt[1]))"
      ],
      "execution_count": 44,
      "outputs": [
        {
          "output_type": "stream",
          "text": [
            "Beta 1 = 690.453017\n",
            "Beta 2 = 0.997207\n"
          ],
          "name": "stdout"
        },
        {
          "output_type": "execute_result",
          "data": {
            "text/plain": [
              "array([0.97318769, 0.97368421, 0.97418073, 0.97467726, 0.97517378,\n",
              "       0.97567031, 0.97616683, 0.97666336, 0.97715988, 0.97765641,\n",
              "       0.97815293, 0.97864945, 0.97914598, 0.9796425 , 0.98013903,\n",
              "       0.98063555, 0.98113208, 0.9816286 , 0.98212512, 0.98262165,\n",
              "       0.98311817, 0.9836147 , 0.98411122, 0.98460775, 0.98510427,\n",
              "       0.98560079, 0.98609732, 0.98659384, 0.98709037, 0.98758689,\n",
              "       0.98808342, 0.98857994, 0.98907646, 0.98957299, 0.99006951,\n",
              "       0.99056604, 0.99106256, 0.99155909, 0.99205561, 0.99255214,\n",
              "       0.99304866, 0.99354518, 0.99404171, 0.99453823, 0.99503476,\n",
              "       0.99553128, 0.99602781, 0.99652433, 0.99702085, 0.99751738,\n",
              "       0.9980139 , 0.99851043, 0.99900695, 0.99950348, 1.        ])"
            ]
          },
          "metadata": {
            "tags": []
          },
          "execution_count": 44
        }
      ]
    },
    {
      "cell_type": "code",
      "metadata": {
        "id": "yGdYz29ueQ9f",
        "colab_type": "code",
        "colab": {
          "base_uri": "https://localhost:8080/",
          "height": 334
        },
        "outputId": "681db9b9-09ec-4f7b-be36-413e5f62e4af"
      },
      "source": [
        "plt.figure(figsize=(8,5))\n",
        "plt.scatter(X_data, y_data)\n",
        "plt.plot(X_data, sigmoid(X_data, *popt), color='red', linewidth=3)\n",
        "plt.xlabel('Year')\n",
        "plt.ylabel('GDP')\n",
        "plt.show()"
      ],
      "execution_count": 31,
      "outputs": [
        {
          "output_type": "display_data",
          "data": {
            "image/png": "[encoded data removed]",
            "text/plain": [
              "<Figure size 576x360 with 1 Axes>"
            ]
          },
          "metadata": {
            "tags": [],
            "needs_background": "light"
          }
        }
      ]
    },
    {
      "cell_type": "markdown",
      "metadata": {
        "id": "PwwFu9nQfNhd",
        "colab_type": "text"
      },
      "source": [
        "###**Calculating The Accuracy of the Model**"
      ]
    },
    {
      "cell_type": "code",
      "metadata": {
        "id": "5LwtsSW9fRQr",
        "colab_type": "code",
        "colab": {
          "base_uri": "https://localhost:8080/",
          "height": 85
        },
        "outputId": "5a6af3c3-d871-40d8-d179-34c843e674f3"
      },
      "source": [
        "mask = np.random.rand(len(df)) < 0.8\n",
        "train_set = df[mask]\n",
        "test_set = df[~mask]\n",
        "\n",
        "train_X, train_y = (train_set['Year'].values/max(train_set['Year']), train_set['Value'].values/max(train_set['Value']))\n",
        "test_X, test_y = (test_set['Year']/max(train_set['Year']), test_set['Value']/max(train_set['Value']))\n",
        "\n",
        "print(\"Size of Training Data: \", train_set.shape[0])\n",
        "print(\"Size of Testing Data: \", test_set.shape[0])\n",
        "\n",
        "popt, pcov = curve_fit(sigmoid, train_X, train_y)\n",
        "print(\"Beta 1: %f\\nBeta 2: %f\" % (popt[0], popt[1]))"
      ],
      "execution_count": 60,
      "outputs": [
        {
          "output_type": "stream",
          "text": [
            "Size of Training Data:  44\n",
            "Size of Testing Data:  11\n",
            "Beta 1: 712.182762\n",
            "Beta 2: 0.997059\n"
          ],
          "name": "stdout"
        }
      ]
    },
    {
      "cell_type": "code",
      "metadata": {
        "id": "Jwv4u-nef94x",
        "colab_type": "code",
        "colab": {
          "base_uri": "https://localhost:8080/",
          "height": 51
        },
        "outputId": "3016b0b6-f0ef-4de6-aa63-f62e4b408c9c"
      },
      "source": [
        "from sklearn.metrics import r2_score\n",
        "\n",
        "predicted_y = sigmoid(test_X, *popt)\n",
        "print(\"Residual Sum of Squares / Mean Squared Error (MSE): %f\" % np.mean((predicted_y - test_y) ** 2))\n",
        "print(\"R2 Score: %f\" % r2_score(predicted_y, test_y))"
      ],
      "execution_count": 61,
      "outputs": [
        {
          "output_type": "stream",
          "text": [
            "Residual Sum of Squares / Mean Squared Error (MSE): 0.002183\n",
            "R2 Score: 0.962633\n"
          ],
          "name": "stdout"
        }
      ]
    },
    {
      "cell_type": "markdown",
      "metadata": {
        "id": "SDb6ZSwJlpDX",
        "colab_type": "text"
      },
      "source": [
        "##**<center>Thank You For Your Patience</center>**"
      ]
    }
  ]
}