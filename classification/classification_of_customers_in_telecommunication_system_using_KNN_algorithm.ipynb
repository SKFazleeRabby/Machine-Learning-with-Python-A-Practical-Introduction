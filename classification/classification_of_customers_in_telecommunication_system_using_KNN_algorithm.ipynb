{
  "nbformat": 4,
  "nbformat_minor": 0,
  "metadata": {
    "colab": {
      "name": "Untitled2.ipynb",
      "provenance": [],
      "authorship_tag": "ABX9TyMxUUF338lsjk6X0xGH0oxk",
      "include_colab_link": true
    },
    "kernelspec": {
      "name": "python3",
      "display_name": "Python 3"
    }
  },
  "cells": [
    {
      "cell_type": "markdown",
      "metadata": {
        "id": "view-in-github",
        "colab_type": "text"
      },
      "source": [
        "<a href=\"https://colab.research.google.com/github/SKFazleeRabby/Machine-Learning-with-Python-A-Practical-Introduction/blob/master/classification/classification_of_customers_in_telecommunication_system_using_KNN_algorithm.ipynb\" target=\"_parent\"><img src=\"https://colab.research.google.com/assets/colab-badge.svg\" alt=\"Open In Colab\"/></a>"
      ]
    },
    {
      "cell_type": "markdown",
      "metadata": {
        "id": "Yx4nNMdSnL5a",
        "colab_type": "text"
      },
      "source": [
        "#**<center>Classification of Customers in Telecommunication System using KNN Algorithm</center>**\n",
        "\n",
        "<center>Imagine a telecommunications provider has segmented its customer base by service usage patterns, categorizing the customers into four groups. If demographic data can be used to predict group membership, the company can customize offers for individual prospective customers. It is a classification problem. That is, given the dataset, with predefined labels, we need to build a model to be used to predict class of a new or unknown case. The example focuses on using demographic data, such as region, age, and marital, to predict usage patterns. The target field, called custcat, has four possible values that correspond to the four customer groups, as follows: 1- Basic Service 2- E-Service 3- Plus Service 4- Total Service Our objective is to build a classifier, to predict the class of unknown cases. We will use a specific type of classification called K nearest neighbour.</center>"
      ]
    },
    {
      "cell_type": "markdown",
      "metadata": {
        "id": "Es5i6Aek0P18",
        "colab_type": "text"
      },
      "source": [
        "###**Importing Dataset**"
      ]
    },
    {
      "cell_type": "code",
      "metadata": {
        "id": "ZAdKHhNF0SIc",
        "colab_type": "code",
        "colab": {}
      },
      "source": [
        "import pandas as pd\n",
        "import numpy as np\n",
        "import matplotlib.pyplot as plt\n",
        "%matplotlib inline"
      ],
      "execution_count": 2,
      "outputs": []
    },
    {
      "cell_type": "markdown",
      "metadata": {
        "id": "hH-r5Vcj0YCK",
        "colab_type": "text"
      },
      "source": [
        "###**Downloading the Dataset from IBM Object Storage**"
      ]
    },
    {
      "cell_type": "code",
      "metadata": {
        "id": "x_TjpJOu0eQ5",
        "colab_type": "code",
        "colab": {
          "base_uri": "https://localhost:8080/",
          "height": 204
        },
        "outputId": "d88e9d00-aa63-4876-87f0-9157ed32396b"
      },
      "source": [
        "!wget -O TeleCust.csv https://s3-api.us-geo.objectstorage.softlayer.net/cf-courses-data/CognitiveClass/ML0101ENv3/labs/teleCust1000t.csv"
      ],
      "execution_count": 3,
      "outputs": [
        {
          "output_type": "stream",
          "text": [
            "--2020-07-10 19:23:47--  https://s3-api.us-geo.objectstorage.softlayer.net/cf-courses-data/CognitiveClass/ML0101ENv3/labs/teleCust1000t.csv\n",
            "Resolving s3-api.us-geo.objectstorage.softlayer.net (s3-api.us-geo.objectstorage.softlayer.net)... 67.228.254.196\n",
            "Connecting to s3-api.us-geo.objectstorage.softlayer.net (s3-api.us-geo.objectstorage.softlayer.net)|67.228.254.196|:443... connected.\n",
            "HTTP request sent, awaiting response... 200 OK\n",
            "Length: 37048 (36K) [text/csv]\n",
            "Saving to: ‘TeleCust.csv’\n",
            "\n",
            "\rTeleCust.csv          0%[                    ]       0  --.-KB/s               \rTeleCust.csv        100%[===================>]  36.18K  --.-KB/s    in 0.1s    \n",
            "\n",
            "2020-07-10 19:23:47 (247 KB/s) - ‘TeleCust.csv’ saved [37048/37048]\n",
            "\n"
          ],
          "name": "stdout"
        }
      ]
    },
    {
      "cell_type": "markdown",
      "metadata": {
        "id": "6Wd9_au80kaX",
        "colab_type": "text"
      },
      "source": [
        "###**Reading & Exploring the Dataset**"
      ]
    },
    {
      "cell_type": "code",
      "metadata": {
        "id": "IxZ1D6Xk0rPj",
        "colab_type": "code",
        "colab": {
          "base_uri": "https://localhost:8080/",
          "height": 204
        },
        "outputId": "a240f8e5-d80d-4a43-d3b7-322328900cf4"
      },
      "source": [
        "df = pd.read_csv('TeleCust.csv')\n",
        "df.head()"
      ],
      "execution_count": 4,
      "outputs": [
        {
          "output_type": "execute_result",
          "data": {
            "text/html": [
              "<div>\n",
              "<style scoped>\n",
              "    .dataframe tbody tr th:only-of-type {\n",
              "        vertical-align: middle;\n",
              "    }\n",
              "\n",
              "    .dataframe tbody tr th {\n",
              "        vertical-align: top;\n",
              "    }\n",
              "\n",
              "    .dataframe thead th {\n",
              "        text-align: right;\n",
              "    }\n",
              "</style>\n",
              "<table border=\"1\" class=\"dataframe\">\n",
              "  <thead>\n",
              "    <tr style=\"text-align: right;\">\n",
              "      <th></th>\n",
              "      <th>region</th>\n",
              "      <th>tenure</th>\n",
              "      <th>age</th>\n",
              "      <th>marital</th>\n",
              "      <th>address</th>\n",
              "      <th>income</th>\n",
              "      <th>ed</th>\n",
              "      <th>employ</th>\n",
              "      <th>retire</th>\n",
              "      <th>gender</th>\n",
              "      <th>reside</th>\n",
              "      <th>custcat</th>\n",
              "    </tr>\n",
              "  </thead>\n",
              "  <tbody>\n",
              "    <tr>\n",
              "      <th>0</th>\n",
              "      <td>2</td>\n",
              "      <td>13</td>\n",
              "      <td>44</td>\n",
              "      <td>1</td>\n",
              "      <td>9</td>\n",
              "      <td>64.0</td>\n",
              "      <td>4</td>\n",
              "      <td>5</td>\n",
              "      <td>0.0</td>\n",
              "      <td>0</td>\n",
              "      <td>2</td>\n",
              "      <td>1</td>\n",
              "    </tr>\n",
              "    <tr>\n",
              "      <th>1</th>\n",
              "      <td>3</td>\n",
              "      <td>11</td>\n",
              "      <td>33</td>\n",
              "      <td>1</td>\n",
              "      <td>7</td>\n",
              "      <td>136.0</td>\n",
              "      <td>5</td>\n",
              "      <td>5</td>\n",
              "      <td>0.0</td>\n",
              "      <td>0</td>\n",
              "      <td>6</td>\n",
              "      <td>4</td>\n",
              "    </tr>\n",
              "    <tr>\n",
              "      <th>2</th>\n",
              "      <td>3</td>\n",
              "      <td>68</td>\n",
              "      <td>52</td>\n",
              "      <td>1</td>\n",
              "      <td>24</td>\n",
              "      <td>116.0</td>\n",
              "      <td>1</td>\n",
              "      <td>29</td>\n",
              "      <td>0.0</td>\n",
              "      <td>1</td>\n",
              "      <td>2</td>\n",
              "      <td>3</td>\n",
              "    </tr>\n",
              "    <tr>\n",
              "      <th>3</th>\n",
              "      <td>2</td>\n",
              "      <td>33</td>\n",
              "      <td>33</td>\n",
              "      <td>0</td>\n",
              "      <td>12</td>\n",
              "      <td>33.0</td>\n",
              "      <td>2</td>\n",
              "      <td>0</td>\n",
              "      <td>0.0</td>\n",
              "      <td>1</td>\n",
              "      <td>1</td>\n",
              "      <td>1</td>\n",
              "    </tr>\n",
              "    <tr>\n",
              "      <th>4</th>\n",
              "      <td>2</td>\n",
              "      <td>23</td>\n",
              "      <td>30</td>\n",
              "      <td>1</td>\n",
              "      <td>9</td>\n",
              "      <td>30.0</td>\n",
              "      <td>1</td>\n",
              "      <td>2</td>\n",
              "      <td>0.0</td>\n",
              "      <td>0</td>\n",
              "      <td>4</td>\n",
              "      <td>3</td>\n",
              "    </tr>\n",
              "  </tbody>\n",
              "</table>\n",
              "</div>"
            ],
            "text/plain": [
              "   region  tenure  age  marital  ...  retire  gender  reside  custcat\n",
              "0       2      13   44        1  ...     0.0       0       2        1\n",
              "1       3      11   33        1  ...     0.0       0       6        4\n",
              "2       3      68   52        1  ...     0.0       1       2        3\n",
              "3       2      33   33        0  ...     0.0       1       1        1\n",
              "4       2      23   30        1  ...     0.0       0       4        3\n",
              "\n",
              "[5 rows x 12 columns]"
            ]
          },
          "metadata": {
            "tags": []
          },
          "execution_count": 4
        }
      ]
    },
    {
      "cell_type": "code",
      "metadata": {
        "id": "KM5JR4EU00un",
        "colab_type": "code",
        "colab": {
          "base_uri": "https://localhost:8080/",
          "height": 102
        },
        "outputId": "831765de-2f5e-42bc-bc02-8110c9628dfc"
      },
      "source": [
        "df['custcat'].value_counts()"
      ],
      "execution_count": 5,
      "outputs": [
        {
          "output_type": "execute_result",
          "data": {
            "text/plain": [
              "3    281\n",
              "1    266\n",
              "4    236\n",
              "2    217\n",
              "Name: custcat, dtype: int64"
            ]
          },
          "metadata": {
            "tags": []
          },
          "execution_count": 5
        }
      ]
    },
    {
      "cell_type": "code",
      "metadata": {
        "id": "EFxV4ajC1VQd",
        "colab_type": "code",
        "colab": {
          "base_uri": "https://localhost:8080/",
          "height": 315
        },
        "outputId": "6880e158-9d22-45d5-e14e-06c49793e6f5"
      },
      "source": [
        "df.hist(column='income', bins=50)"
      ],
      "execution_count": 6,
      "outputs": [
        {
          "output_type": "execute_result",
          "data": {
            "text/plain": [
              "array([[<matplotlib.axes._subplots.AxesSubplot object at 0x7fab9b2a1f60>]],\n",
              "      dtype=object)"
            ]
          },
          "metadata": {
            "tags": []
          },
          "execution_count": 6
        },
        {
          "output_type": "display_data",
          "data": {
            "image/png": "[encoded data removed]",
            "text/plain": [
              "<Figure size 432x288 with 1 Axes>"
            ]
          },
          "metadata": {
            "tags": [],
            "needs_background": "light"
          }
        }
      ]
    },
    {
      "cell_type": "markdown",
      "metadata": {
        "id": "NuwA3vl23A8h",
        "colab_type": "text"
      },
      "source": [
        "###**Pre-Processing Data**"
      ]
    },
    {
      "cell_type": "code",
      "metadata": {
        "id": "g5h6hd7J3vwe",
        "colab_type": "code",
        "colab": {}
      },
      "source": [
        "from sklearn.preprocessing import StandardScaler\n",
        "\n",
        "X_data = df[['region',\t'tenure',\t'age',\t'marital',\t'address',\t'income',\t'ed',\t'employ',\t'retire',\t'gender',\t'reside']].values\n",
        "y_data = df['custcat'].values\n",
        "\n",
        "standard = StandardScaler()\n",
        "X_data = standard.fit(X_data).transform(X_data)"
      ],
      "execution_count": 7,
      "outputs": []
    },
    {
      "cell_type": "markdown",
      "metadata": {
        "id": "hT1hIa5T4vpX",
        "colab_type": "text"
      },
      "source": [
        "###**Splitting Data into Train & Test Set**"
      ]
    },
    {
      "cell_type": "code",
      "metadata": {
        "id": "M52OAJCI47Gi",
        "colab_type": "code",
        "colab": {
          "base_uri": "https://localhost:8080/",
          "height": 51
        },
        "outputId": "ebaf2e73-89c1-4334-e5b4-2b7867ff2cdc"
      },
      "source": [
        "from sklearn.model_selection import train_test_split\n",
        "\n",
        "train_X, test_X, train_y, test_y = train_test_split(X_data, y_data, test_size=0.2, random_state=4)\n",
        "print(\"Size of Training Set: \", train_X.shape[0])\n",
        "print(\"Size of Testing Set: \", test_X.shape[0])"
      ],
      "execution_count": 8,
      "outputs": [
        {
          "output_type": "stream",
          "text": [
            "Size of Training Set:  800\n",
            "Size of Testing Set:  200\n"
          ],
          "name": "stdout"
        }
      ]
    },
    {
      "cell_type": "markdown",
      "metadata": {
        "id": "SB_rpLgL5iLQ",
        "colab_type": "text"
      },
      "source": [
        "###**Training Our Model using KNN Alrogithm**"
      ]
    },
    {
      "cell_type": "code",
      "metadata": {
        "id": "cfeqStJs5tQK",
        "colab_type": "code",
        "colab": {
          "base_uri": "https://localhost:8080/",
          "height": 68
        },
        "outputId": "c800806f-76b5-499b-b15a-7aaa5f0d8d3e"
      },
      "source": [
        "from sklearn.neighbors import KNeighborsClassifier\n",
        "\n",
        "classifier = KNeighborsClassifier(n_neighbors=4)\n",
        "classifier.fit(train_X, train_y)"
      ],
      "execution_count": 9,
      "outputs": [
        {
          "output_type": "execute_result",
          "data": {
            "text/plain": [
              "KNeighborsClassifier(algorithm='auto', leaf_size=30, metric='minkowski',\n",
              "                     metric_params=None, n_jobs=None, n_neighbors=4, p=2,\n",
              "                     weights='uniform')"
            ]
          },
          "metadata": {
            "tags": []
          },
          "execution_count": 9
        }
      ]
    },
    {
      "cell_type": "markdown",
      "metadata": {
        "id": "pKI6nND-7l7R",
        "colab_type": "text"
      },
      "source": [
        "###**Accuracy Evaluation**"
      ]
    },
    {
      "cell_type": "code",
      "metadata": {
        "id": "DCfkjK5X7xVM",
        "colab_type": "code",
        "colab": {
          "base_uri": "https://localhost:8080/",
          "height": 51
        },
        "outputId": "e8ca0a40-8db6-4418-b1fb-7f1e1076df8b"
      },
      "source": [
        "from sklearn.metrics import accuracy_score\n",
        "\n",
        "predicted_y = classifier.predict(test_X)\n",
        "\n",
        "print(\"Train Accuracy Score: \", accuracy_score(classifier.predict(train_X), train_y))\n",
        "print(\"Test Accuracy Score: \", accuracy_score(predicted_y, test_y))"
      ],
      "execution_count": 10,
      "outputs": [
        {
          "output_type": "stream",
          "text": [
            "Train Accuracy Score:  0.5475\n",
            "Test Accuracy Score:  0.32\n"
          ],
          "name": "stdout"
        }
      ]
    },
    {
      "cell_type": "markdown",
      "metadata": {
        "id": "0bpq-mKV9GRU",
        "colab_type": "text"
      },
      "source": [
        "###**Trying with the Value K=6 and see if the accuracy improves**"
      ]
    },
    {
      "cell_type": "code",
      "metadata": {
        "id": "1coeBiDJ8mcA",
        "colab_type": "code",
        "colab": {
          "base_uri": "https://localhost:8080/",
          "height": 51
        },
        "outputId": "ddcf9a1b-bd40-4459-d145-2c1645661031"
      },
      "source": [
        "new_classifier = KNeighborsClassifier(n_neighbors=6)\n",
        "new_classifier.fit(train_X, train_y)\n",
        "\n",
        "new_predicted_y = new_classifier.predict(test_X)\n",
        "\n",
        "print(\"Train Accuracy Score: \", accuracy_score(new_classifier.predict(train_X), train_y))\n",
        "print(\"Test Accuracy Score: \", accuracy_score(predicted_y, test_y))"
      ],
      "execution_count": 11,
      "outputs": [
        {
          "output_type": "stream",
          "text": [
            "Train Accuracy Score:  0.51625\n",
            "Test Accuracy Score:  0.32\n"
          ],
          "name": "stdout"
        }
      ]
    },
    {
      "cell_type": "code",
      "metadata": {
        "id": "fK0FRtE49Eog",
        "colab_type": "code",
        "colab": {
          "base_uri": "https://localhost:8080/",
          "height": 34
        },
        "outputId": "86f5eb53-f61a-4ebe-a37e-a375e8650f3a"
      },
      "source": [
        "number_of_k = 10\n",
        "accuracy_set = []\n",
        "\n",
        "for k in range(1,number_of_k):\n",
        "  iterative_classifier = KNeighborsClassifier(n_neighbors=k)\n",
        "  iterative_classifier.fit(train_X, train_y)\n",
        "  iterative_predicted = iterative_classifier.predict(test_X)\n",
        "  accuracy = accuracy_score(iterative_predicted, test_y)\n",
        "  accuracy_set.append(accuracy)\n",
        "\n",
        "print(\"The Maximum Accuracy is %.2f and it can be obtained with a value K=%d\" % (max(accuracy_set), np.argmax(accuracy_set) + 1))"
      ],
      "execution_count": 12,
      "outputs": [
        {
          "output_type": "stream",
          "text": [
            "The Maximum Accuracy is 0.34 and it can be obtained with a value K=9\n"
          ],
          "name": "stdout"
        }
      ]
    },
    {
      "cell_type": "code",
      "metadata": {
        "id": "v9FL3kIQLdOH",
        "colab_type": "code",
        "colab": {
          "base_uri": "https://localhost:8080/",
          "height": 297
        },
        "outputId": "394a5398-7847-4b4c-d4de-bd5e692fb056"
      },
      "source": [
        "plt.plot(range(1, number_of_k), accuracy_set)\n",
        "plt.ylabel('Accuracy ')\n",
        "plt.xlabel('Number of Neighbors (K)')\n",
        "plt.tight_layout()\n",
        "plt.show()"
      ],
      "execution_count": 16,
      "outputs": [
        {
          "output_type": "display_data",
          "data": {
            "image/png": "[encoded data removed]",
            "text/plain": [
              "<Figure size 432x288 with 1 Axes>"
            ]
          },
          "metadata": {
            "tags": [],
            "needs_background": "light"
          }
        }
      ]
    },
    {
      "cell_type": "markdown",
      "metadata": {
        "id": "D4TnJME6MTtw",
        "colab_type": "text"
      },
      "source": [
        "##**<center>Thank You for Your Patience</center>**"
      ]
    }
  ]
}