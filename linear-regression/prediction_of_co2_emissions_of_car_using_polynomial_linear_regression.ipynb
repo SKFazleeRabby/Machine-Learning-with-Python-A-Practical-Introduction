{
  "nbformat": 4,
  "nbformat_minor": 0,
  "metadata": {
    "colab": {
      "name": "Prediction of CO2 Emissions of Car using Polynomial Linear Regression.ipynb",
      "provenance": [],
      "authorship_tag": "ABX9TyPpNaBuJ40+j6i+mb/ZXbqG",
      "include_colab_link": true
    },
    "kernelspec": {
      "name": "python3",
      "display_name": "Python 3"
    }
  },
  "cells": [
    {
      "cell_type": "markdown",
      "metadata": {
        "id": "view-in-github",
        "colab_type": "text"
      },
      "source": [
        "<a href=\"https://colab.research.google.com/github/SKFazleeRabby/Machine-Learning-with-Python-A-Practical-Introduction/blob/master/linear-regression/prediction_of_co2_emissions_of_car_using_polynomial_linear_regression.ipynb\" target=\"_parent\"><img src=\"https://colab.research.google.com/assets/colab-badge.svg\" alt=\"Open In Colab\"/></a>"
      ]
    },
    {
      "cell_type": "markdown",
      "metadata": {
        "id": "pQ-EvmX0LGS9",
        "colab_type": "text"
      },
      "source": [
        "# <center>**Prediction of CO2 Emissions of Car using Polynomial Linear Regression**<center>\n",
        "\n",
        "<center>In this notebook, we will use scikit-learn to predict CO2 emissions using Polynomial linear regression. We download a dataset that is related to fuel consumption and Carbon dioxide emission of cars. Then, we split our data into training and test sets, create a model using training set, Evaluate your model using test set, and finally use model to predict unknown value. </center>\n"
      ]
    },
    {
      "cell_type": "markdown",
      "metadata": {
        "id": "Jds7wSmcLNPM",
        "colab_type": "text"
      },
      "source": [
        "###**Importing Datasset**"
      ]
    },
    {
      "cell_type": "code",
      "metadata": {
        "id": "Hdu1x4guLQzk",
        "colab_type": "code",
        "colab": {}
      },
      "source": [
        "import pandas as pd\n",
        "import numpy as np\n",
        "import matplotlib.pyplot as plt\n",
        "%matplotlib inline"
      ],
      "execution_count": 1,
      "outputs": []
    },
    {
      "cell_type": "markdown",
      "metadata": {
        "id": "QHfNXFzMLZls",
        "colab_type": "text"
      },
      "source": [
        "###**Downloading Dataset from IBM Object Storage**\n",
        "We have downloaded a fuel consumption dataset FuelConsumption.csv, which contains model-specific fuel consumption ratings and estimated carbon dioxide emissions for new light-duty vehicles for retail sale in Canada"
      ]
    },
    {
      "cell_type": "code",
      "metadata": {
        "id": "uNGx6y19Lhj2",
        "colab_type": "code",
        "colab": {}
      },
      "source": [
        "!wget -O FuelConsumption.csv https://s3-api.us-geo.objectstorage.softlayer.net/cf-courses-data/CognitiveClass/ML0101ENv3/labs/FuelConsumptionCo2.csv"
      ],
      "execution_count": null,
      "outputs": []
    },
    {
      "cell_type": "markdown",
      "metadata": {
        "id": "vT41hX7HLoQD",
        "colab_type": "text"
      },
      "source": [
        "###**Reading and Exploring Data**"
      ]
    },
    {
      "cell_type": "code",
      "metadata": {
        "id": "Z3pnXvJSLvXj",
        "colab_type": "code",
        "colab": {
          "base_uri": "https://localhost:8080/",
          "height": 275
        },
        "outputId": "b39ae21d-63ec-494f-9c24-38f13a5575b9"
      },
      "source": [
        "df = pd.read_csv('FuelConsumption.csv')\n",
        "df.head()"
      ],
      "execution_count": 3,
      "outputs": [
        {
          "output_type": "execute_result",
          "data": {
            "text/html": [
              "<div>\n",
              "<style scoped>\n",
              "    .dataframe tbody tr th:only-of-type {\n",
              "        vertical-align: middle;\n",
              "    }\n",
              "\n",
              "    .dataframe tbody tr th {\n",
              "        vertical-align: top;\n",
              "    }\n",
              "\n",
              "    .dataframe thead th {\n",
              "        text-align: right;\n",
              "    }\n",
              "</style>\n",
              "<table border=\"1\" class=\"dataframe\">\n",
              "  <thead>\n",
              "    <tr style=\"text-align: right;\">\n",
              "      <th></th>\n",
              "      <th>MODELYEAR</th>\n",
              "      <th>MAKE</th>\n",
              "      <th>MODEL</th>\n",
              "      <th>VEHICLECLASS</th>\n",
              "      <th>ENGINESIZE</th>\n",
              "      <th>CYLINDERS</th>\n",
              "      <th>TRANSMISSION</th>\n",
              "      <th>FUELTYPE</th>\n",
              "      <th>FUELCONSUMPTION_CITY</th>\n",
              "      <th>FUELCONSUMPTION_HWY</th>\n",
              "      <th>FUELCONSUMPTION_COMB</th>\n",
              "      <th>FUELCONSUMPTION_COMB_MPG</th>\n",
              "      <th>CO2EMISSIONS</th>\n",
              "    </tr>\n",
              "  </thead>\n",
              "  <tbody>\n",
              "    <tr>\n",
              "      <th>0</th>\n",
              "      <td>2014</td>\n",
              "      <td>ACURA</td>\n",
              "      <td>ILX</td>\n",
              "      <td>COMPACT</td>\n",
              "      <td>2.0</td>\n",
              "      <td>4</td>\n",
              "      <td>AS5</td>\n",
              "      <td>Z</td>\n",
              "      <td>9.9</td>\n",
              "      <td>6.7</td>\n",
              "      <td>8.5</td>\n",
              "      <td>33</td>\n",
              "      <td>196</td>\n",
              "    </tr>\n",
              "    <tr>\n",
              "      <th>1</th>\n",
              "      <td>2014</td>\n",
              "      <td>ACURA</td>\n",
              "      <td>ILX</td>\n",
              "      <td>COMPACT</td>\n",
              "      <td>2.4</td>\n",
              "      <td>4</td>\n",
              "      <td>M6</td>\n",
              "      <td>Z</td>\n",
              "      <td>11.2</td>\n",
              "      <td>7.7</td>\n",
              "      <td>9.6</td>\n",
              "      <td>29</td>\n",
              "      <td>221</td>\n",
              "    </tr>\n",
              "    <tr>\n",
              "      <th>2</th>\n",
              "      <td>2014</td>\n",
              "      <td>ACURA</td>\n",
              "      <td>ILX HYBRID</td>\n",
              "      <td>COMPACT</td>\n",
              "      <td>1.5</td>\n",
              "      <td>4</td>\n",
              "      <td>AV7</td>\n",
              "      <td>Z</td>\n",
              "      <td>6.0</td>\n",
              "      <td>5.8</td>\n",
              "      <td>5.9</td>\n",
              "      <td>48</td>\n",
              "      <td>136</td>\n",
              "    </tr>\n",
              "    <tr>\n",
              "      <th>3</th>\n",
              "      <td>2014</td>\n",
              "      <td>ACURA</td>\n",
              "      <td>MDX 4WD</td>\n",
              "      <td>SUV - SMALL</td>\n",
              "      <td>3.5</td>\n",
              "      <td>6</td>\n",
              "      <td>AS6</td>\n",
              "      <td>Z</td>\n",
              "      <td>12.7</td>\n",
              "      <td>9.1</td>\n",
              "      <td>11.1</td>\n",
              "      <td>25</td>\n",
              "      <td>255</td>\n",
              "    </tr>\n",
              "    <tr>\n",
              "      <th>4</th>\n",
              "      <td>2014</td>\n",
              "      <td>ACURA</td>\n",
              "      <td>RDX AWD</td>\n",
              "      <td>SUV - SMALL</td>\n",
              "      <td>3.5</td>\n",
              "      <td>6</td>\n",
              "      <td>AS6</td>\n",
              "      <td>Z</td>\n",
              "      <td>12.1</td>\n",
              "      <td>8.7</td>\n",
              "      <td>10.6</td>\n",
              "      <td>27</td>\n",
              "      <td>244</td>\n",
              "    </tr>\n",
              "  </tbody>\n",
              "</table>\n",
              "</div>"
            ],
            "text/plain": [
              "   MODELYEAR   MAKE  ... FUELCONSUMPTION_COMB_MPG CO2EMISSIONS\n",
              "0       2014  ACURA  ...                       33          196\n",
              "1       2014  ACURA  ...                       29          221\n",
              "2       2014  ACURA  ...                       48          136\n",
              "3       2014  ACURA  ...                       25          255\n",
              "4       2014  ACURA  ...                       27          244\n",
              "\n",
              "[5 rows x 13 columns]"
            ]
          },
          "metadata": {
            "tags": []
          },
          "execution_count": 3
        }
      ]
    },
    {
      "cell_type": "code",
      "metadata": {
        "id": "Oc4S3Q-xLzFP",
        "colab_type": "code",
        "colab": {
          "base_uri": "https://localhost:8080/",
          "height": 204
        },
        "outputId": "825386e5-2007-426e-c9c0-7c8ae80e5813"
      },
      "source": [
        "cdf = df[['ENGINESIZE','CYLINDERS','FUELCONSUMPTION_COMB','CO2EMISSIONS']]\n",
        "cdf.head()"
      ],
      "execution_count": 8,
      "outputs": [
        {
          "output_type": "execute_result",
          "data": {
            "text/html": [
              "<div>\n",
              "<style scoped>\n",
              "    .dataframe tbody tr th:only-of-type {\n",
              "        vertical-align: middle;\n",
              "    }\n",
              "\n",
              "    .dataframe tbody tr th {\n",
              "        vertical-align: top;\n",
              "    }\n",
              "\n",
              "    .dataframe thead th {\n",
              "        text-align: right;\n",
              "    }\n",
              "</style>\n",
              "<table border=\"1\" class=\"dataframe\">\n",
              "  <thead>\n",
              "    <tr style=\"text-align: right;\">\n",
              "      <th></th>\n",
              "      <th>ENGINESIZE</th>\n",
              "      <th>CYLINDERS</th>\n",
              "      <th>FUELCONSUMPTION_COMB</th>\n",
              "      <th>CO2EMISSIONS</th>\n",
              "    </tr>\n",
              "  </thead>\n",
              "  <tbody>\n",
              "    <tr>\n",
              "      <th>0</th>\n",
              "      <td>2.0</td>\n",
              "      <td>4</td>\n",
              "      <td>8.5</td>\n",
              "      <td>196</td>\n",
              "    </tr>\n",
              "    <tr>\n",
              "      <th>1</th>\n",
              "      <td>2.4</td>\n",
              "      <td>4</td>\n",
              "      <td>9.6</td>\n",
              "      <td>221</td>\n",
              "    </tr>\n",
              "    <tr>\n",
              "      <th>2</th>\n",
              "      <td>1.5</td>\n",
              "      <td>4</td>\n",
              "      <td>5.9</td>\n",
              "      <td>136</td>\n",
              "    </tr>\n",
              "    <tr>\n",
              "      <th>3</th>\n",
              "      <td>3.5</td>\n",
              "      <td>6</td>\n",
              "      <td>11.1</td>\n",
              "      <td>255</td>\n",
              "    </tr>\n",
              "    <tr>\n",
              "      <th>4</th>\n",
              "      <td>3.5</td>\n",
              "      <td>6</td>\n",
              "      <td>10.6</td>\n",
              "      <td>244</td>\n",
              "    </tr>\n",
              "  </tbody>\n",
              "</table>\n",
              "</div>"
            ],
            "text/plain": [
              "   ENGINESIZE  CYLINDERS  FUELCONSUMPTION_COMB  CO2EMISSIONS\n",
              "0         2.0          4                   8.5           196\n",
              "1         2.4          4                   9.6           221\n",
              "2         1.5          4                   5.9           136\n",
              "3         3.5          6                  11.1           255\n",
              "4         3.5          6                  10.6           244"
            ]
          },
          "metadata": {
            "tags": []
          },
          "execution_count": 8
        }
      ]
    },
    {
      "cell_type": "code",
      "metadata": {
        "id": "IQ2MI1-0NGSS",
        "colab_type": "code",
        "colab": {
          "base_uri": "https://localhost:8080/",
          "height": 280
        },
        "outputId": "7bb21573-11c4-4e58-f765-70bd0a866387"
      },
      "source": [
        "plt.scatter(cdf.ENGINESIZE, cdf.CO2EMISSIONS)\n",
        "plt.xlabel('Engine Size')\n",
        "plt.ylabel('CO2 Emissions')\n",
        "plt.show()"
      ],
      "execution_count": 9,
      "outputs": [
        {
          "output_type": "display_data",
          "data": {
            "image/png": "[encoded data removed]",
            "text/plain": [
              "<Figure size 432x288 with 1 Axes>"
            ]
          },
          "metadata": {
            "tags": [],
            "needs_background": "light"
          }
        }
      ]
    },
    {
      "cell_type": "markdown",
      "metadata": {
        "id": "3Btn2d0cNXcc",
        "colab_type": "text"
      },
      "source": [
        "###**Creating Train and Test Set using Numpy**"
      ]
    },
    {
      "cell_type": "code",
      "metadata": {
        "id": "nfdBJT8CNj9y",
        "colab_type": "code",
        "colab": {
          "base_uri": "https://localhost:8080/",
          "height": 51
        },
        "outputId": "fd7cd2d9-851e-4225-856e-f0f9f12e98c5"
      },
      "source": [
        "mask = np.random.rand(len(cdf)) < 0.8\n",
        "train_set = cdf[mask]\n",
        "test_set = cdf[~mask]\n",
        "print(\"Number of Training Data: \", train_set.shape[0])\n",
        "print(\"Number of Testing Data: \", test_set.shape[0])"
      ],
      "execution_count": 10,
      "outputs": [
        {
          "output_type": "stream",
          "text": [
            "Number of Training Data:  866\n",
            "Number of Testing Data:  201\n"
          ],
          "name": "stdout"
        }
      ]
    },
    {
      "cell_type": "markdown",
      "metadata": {
        "id": "5xWJ2HTROIg2",
        "colab_type": "text"
      },
      "source": [
        "###**Fitting Model into Our Data using Polynomial Regression**\n",
        "Sometimes, the trend of data is not really linear, and looks curvy. In this case we can use Polynomial regression methods.\n",
        "\n",
        "Polynomial Regression is the relationship between the independent variable $x$ and the dependent variable $y$ that is modeled as an $n^{th}$ degree polynomial in $x$. Lets say you want to have a polynomial regression (let's make 2 degree polynomial):\n",
        "\n",
        "\n",
        "$$y = b + \\theta_1  x + \\theta_2 x^2$$\n",
        "\n",
        "Now, the question is: how we can fit our data on this equation while we have only x values, such as __Engine Size__? \n",
        "Well, we can create a few additional features: $1$, $x$, and $x^2$.\n",
        "\n",
        "\n",
        "\n",
        "__PloynomialFeatures()__ function in Scikit-learn library, drives a new feature sets from the original feature set. That is, a matrix will be generated consisting of all polynomial combinations of the features with degree less than or equal to the specified degree. For example, lets say the original feature set has only one feature, _ENGINESIZE_. Now, if we select the degree of the polynomial to be 2, then it generates 3 features, degree=0, degree=1 and degree=2"
      ]
    },
    {
      "cell_type": "code",
      "metadata": {
        "id": "UrRHKTWKP-x4",
        "colab_type": "code",
        "colab": {
          "base_uri": "https://localhost:8080/",
          "height": 51
        },
        "outputId": "0cb81eec-3278-40ac-ddb5-125ba82c7f75"
      },
      "source": [
        "from sklearn.preprocessing import PolynomialFeatures\n",
        "from sklearn.linear_model import LinearRegression\n",
        "\n",
        "train_X = np.asanyarray(train_set[['ENGINESIZE']])\n",
        "train_y = np.asanyarray(train_set[['CO2EMISSIONS']])\n",
        "\n",
        "test_X = np.asanyarray(test_set[['ENGINESIZE']])\n",
        "test_y = np.asanyarray(test_set[['CO2EMISSIONS']])\n",
        "\n",
        "polynomial = PolynomialFeatures(degree=2)\n",
        "train_X_poly = polynomial.fit_transform(train_X)\n",
        "\n",
        "regressor = LinearRegression()\n",
        "regressor.fit(train_X_poly, train_y)\n",
        "print(\"Intercept: \", regressor.intercept_)\n",
        "print(\"Coefficient: \", regressor.coef_)"
      ],
      "execution_count": 32,
      "outputs": [
        {
          "output_type": "stream",
          "text": [
            "Intercept:  [109.86708049]\n",
            "Coefficient:  [[ 0.         48.99529913 -1.35103209]]\n"
          ],
          "name": "stdout"
        }
      ]
    },
    {
      "cell_type": "markdown",
      "metadata": {
        "id": "RllpqL8UYkrJ",
        "colab_type": "text"
      },
      "source": [
        "###**Visualizing The Regression Line**"
      ]
    },
    {
      "cell_type": "code",
      "metadata": {
        "id": "CmPE6PgTRN4w",
        "colab_type": "code",
        "colab": {
          "base_uri": "https://localhost:8080/",
          "height": 266
        },
        "outputId": "30d2b390-1751-4c9a-956b-0a891cdeeabe"
      },
      "source": [
        "plt.scatter(train_X, train_y)\n",
        "x_axis = np.arange(0.0,10.0,0.1)\n",
        "y_axis = regressor.intercept_[0] + regressor.coef_[0][1]*x_axis +regressor.coef_[0][2] * (x_axis**2)\n",
        "plt.plot(x_axis, y_axis, color='red', linewidth=2)\n",
        "plt.show()"
      ],
      "execution_count": 33,
      "outputs": [
        {
          "output_type": "display_data",
          "data": {
            "image/png": "[encoded data removed]",
            "text/plain": [
              "<Figure size 432x288 with 1 Axes>"
            ]
          },
          "metadata": {
            "tags": [],
            "needs_background": "light"
          }
        }
      ]
    },
    {
      "cell_type": "markdown",
      "metadata": {
        "id": "kA35bxbdSMWC",
        "colab_type": "text"
      },
      "source": [
        "###**Model Evaluation**\n"
      ]
    },
    {
      "cell_type": "code",
      "metadata": {
        "id": "yhk9uQdFUav0",
        "colab_type": "code",
        "colab": {
          "base_uri": "https://localhost:8080/",
          "height": 68
        },
        "outputId": "3900b173-3066-41a0-960d-4a6df1544492"
      },
      "source": [
        "from sklearn.metrics import r2_score\n",
        "\n",
        "test_X_poly = polynomial.fit_transform(test_X)\n",
        "predicted_y = regressor.predict(test_X_poly)\n",
        "\n",
        "print(\"Mean Squared Error/Residual Sum of Squares (MSE): %.2f\" % np.mean((predicted_y - test_y) ** 2))\n",
        "print(\"R2 Score: %.2f\" % r2_score(predicted_y, test_y))\n",
        "print(\"Variance Score: %.2f\" % regressor.score(test_X_poly, test_y))"
      ],
      "execution_count": 34,
      "outputs": [
        {
          "output_type": "stream",
          "text": [
            "Mean Squared Error/Residual Sum of Squares (MSE): 910.94\n",
            "R2 Score: 0.68\n",
            "Variance Score: 0.77\n"
          ],
          "name": "stdout"
        }
      ]
    },
    {
      "cell_type": "markdown",
      "metadata": {
        "id": "jiDU9tz8Wr5w",
        "colab_type": "text"
      },
      "source": [
        "###**Modify Current Model**\n",
        "Let's build a model with same same features but this time with **degree 3**. Let's find out if it gives a better model or not."
      ]
    },
    {
      "cell_type": "code",
      "metadata": {
        "id": "3CZiVVBSW_Ox",
        "colab_type": "code",
        "colab": {
          "base_uri": "https://localhost:8080/",
          "height": 51
        },
        "outputId": "1d40368b-9c77-457d-c52a-77ffc872a6e4"
      },
      "source": [
        "poly_3 = PolynomialFeatures(degree=3)\n",
        "train_X_poly_3 = poly_3.fit_transform(train_X)\n",
        "new_regressor = LinearRegression()\n",
        "new_regressor.fit(train_X_poly_3, train_y)\n",
        "print(\"Intercept: \", new_regressor.intercept_)\n",
        "print(\"Coefficient: \", new_regressor.coef_)"
      ],
      "execution_count": 35,
      "outputs": [
        {
          "output_type": "stream",
          "text": [
            "Intercept:  [130.52251646]\n",
            "Coefficient:  [[ 0.         29.67254678  3.93859607 -0.43604948]]\n"
          ],
          "name": "stdout"
        }
      ]
    },
    {
      "cell_type": "markdown",
      "metadata": {
        "id": "KD0XB5LYZaO0",
        "colab_type": "text"
      },
      "source": [
        "###**Visualizing New Regresion Model**"
      ]
    },
    {
      "cell_type": "code",
      "metadata": {
        "id": "GE3zzlzrZf1u",
        "colab_type": "code",
        "colab": {
          "base_uri": "https://localhost:8080/",
          "height": 266
        },
        "outputId": "3e07c8fb-0c69-49aa-b7ee-4feef3161811"
      },
      "source": [
        "plt.scatter(train_X, train_y)\n",
        "new_y_axis = new_regressor.intercept_[0] + new_regressor.coef_[0][1] * x_axis + new_regressor.coef_[0][2] * (x_axis**2) + new_regressor.coef_[0][3] * (x_axis**3)\n",
        "plt.plot(x_axis, new_y_axis, color='red', linewidth=2)\n",
        "plt.show()"
      ],
      "execution_count": 40,
      "outputs": [
        {
          "output_type": "display_data",
          "data": {
            "image/png": "[encoded data removed]",
            "text/plain": [
              "<Figure size 432x288 with 1 Axes>"
            ]
          },
          "metadata": {
            "tags": [],
            "needs_background": "light"
          }
        }
      ]
    },
    {
      "cell_type": "markdown",
      "metadata": {
        "id": "heQEu-rqaFRT",
        "colab_type": "text"
      },
      "source": [
        "###**Comparing Result**"
      ]
    },
    {
      "cell_type": "code",
      "metadata": {
        "id": "Mc9M5SsXaf4J",
        "colab_type": "code",
        "colab": {
          "base_uri": "https://localhost:8080/",
          "height": 68
        },
        "outputId": "fd56205a-2ab5-4b80-f9e7-daf2ef612981"
      },
      "source": [
        "test_X_poly_3 = poly_3.fit_transform(test_X)\n",
        "predicted_y = new_regressor.predict(test_X_poly_3)\n",
        "\n",
        "print(\"Residual Sum of Squares/Mean Squared Error (MSE): %.2f\" % np.mean((predicted_y - test_y)**2))\n",
        "print(\"R2 Score: %.2f\" % r2_score(predicted_y, test_y))\n",
        "print(\"Variance Score: %.2f\" % new_regressor.score(test_X_poly_3, test_y))"
      ],
      "execution_count": 43,
      "outputs": [
        {
          "output_type": "stream",
          "text": [
            "Residual Sum of Squares/Mean Squared Error (MSE): 905.90\n",
            "R2 Score: 0.68\n",
            "Variance Score: 0.77\n"
          ],
          "name": "stdout"
        }
      ]
    },
    {
      "cell_type": "markdown",
      "metadata": {
        "id": "k4_jJUNtb4Xb",
        "colab_type": "text"
      },
      "source": [
        "##**<center>Thank You for Your Patience</center>**"
      ]
    }
  ]
}